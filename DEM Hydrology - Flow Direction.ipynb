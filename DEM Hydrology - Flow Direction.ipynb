{
 "cells": [
  {
   "cell_type": "markdown",
   "metadata": {},
   "source": [
    "## First rough attempt at topographic analysis in Python\n",
    "#### slower and clunkier than I'd like but potentially promising"
   ]
  },
  {
   "cell_type": "code",
   "execution_count": null,
   "metadata": {},
   "outputs": [],
   "source": [
    "import rasterio\n",
    "import numpy as np"
   ]
  },
  {
   "cell_type": "code",
   "execution_count": 2,
   "metadata": {},
   "outputs": [],
   "source": [
    "# Function to load DEM data from a .tif file\n",
    "def load_dem(filename):\n",
    "    with rasterio.open(filename) as dem_file:\n",
    "        dem_data = dem_file.read(1)  # Read the first (and typically only) band of data\n",
    "    return dem_data"
   ]
  },
  {
   "cell_type": "code",
   "execution_count": 3,
   "metadata": {},
   "outputs": [],
   "source": [
    "# Load and visualize the DEM\n",
    "dem_filename = 'MOLA-HRSC Blended/Mars_HRSC_MOLA_BlendDEM_Global_200mp_v2.tif' # this is a really big file and takes forever to run\n",
    "dem_data = load_dem(dem_filename)"
   ]
  },
  {
   "cell_type": "code",
   "execution_count": 4,
   "metadata": {},
   "outputs": [],
   "source": [
    "def calculate_flow_directions(dem_path):\n",
    "    dem = load_dem(dem_path)\n",
    "\n",
    "    # Initialize the flow direction array with zeros\n",
    "    flow_directions = np.zeros_like(dem, dtype=np.uint8)\n",
    "\n",
    "    # Define the function to find the lowest neighbor\n",
    "    def get_lowest_neighbor(x, y, grid):\n",
    "        # Define possible directions and their corresponding outputs\n",
    "        directions = {\n",
    "            (0, -1): 1,  # North\n",
    "            (1, -1): 2,  # Northeast\n",
    "            (1, 0): 3,   # East\n",
    "            (1, 1): 4,   # Southeast\n",
    "            (0, 1): 5,   # South\n",
    "            (-1, 1): 6,  # Southwest\n",
    "            (-1, 0): 7,  # West\n",
    "            (-1, -1): 8, # Northwest\n",
    "        }\n",
    "\n",
    "        min_elevation = grid[x, y]\n",
    "        flow_dir = 0  # No flow by default\n",
    "\n",
    "        for dx, dy in directions:\n",
    "            nx, ny = x + dx, y + dy\n",
    "            if 0 <= nx < grid.shape[0] and 0 <= ny < grid.shape[1]:\n",
    "                if grid[nx, ny] < min_elevation:\n",
    "                    min_elevation = grid[nx, ny]\n",
    "                    flow_dir = directions[(dx, dy)]\n",
    "\n",
    "        return flow_dir\n",
    "\n",
    "    # Iterate over each cell\n",
    "    for i in range(dem.shape[0]):\n",
    "        for j in range(dem.shape[1]):\n",
    "            flow_directions[i, j] = get_lowest_neighbor(i, j, dem)\n",
    "\n",
    "    # Write the flow direction raster\n",
    "    output_path = dem_path.replace('.tif', '_flow_directions.tif')\n",
    "    with rasterio.open(output_path, 'w', driver='GTiff', height=dem.shape[0], width=dem.shape[1], count=1, dtype=flow_directions.dtype, crs='+proj=latlong') as out_dataset:\n",
    "        out_dataset.write(flow_directions, 1)\n",
    "\n",
    "    return output_path"
   ]
  },
  {
   "cell_type": "code",
   "execution_count": null,
   "metadata": {},
   "outputs": [],
   "source": [
    "# i have a big file pre-loaded so it takes a really long time, feel free to use a smaller DEM\n",
    "flow_directions_path = calculate_flow_directions(dem_filename)"
   ]
  },
  {
   "cell_type": "code",
   "execution_count": null,
   "metadata": {},
   "outputs": [],
   "source": []
  }
 ],
 "metadata": {
  "kernelspec": {
   "display_name": "Python 3",
   "language": "python",
   "name": "python3"
  },
  "language_info": {
   "codemirror_mode": {
    "name": "ipython",
    "version": 3
   },
   "file_extension": ".py",
   "mimetype": "text/x-python",
   "name": "python",
   "nbconvert_exporter": "python",
   "pygments_lexer": "ipython3",
   "version": "3.8.5"
  }
 },
 "nbformat": 4,
 "nbformat_minor": 4
}
